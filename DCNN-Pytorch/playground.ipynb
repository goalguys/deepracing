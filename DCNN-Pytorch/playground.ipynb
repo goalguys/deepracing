{
 "cells": [
  {
   "cell_type": "code",
   "execution_count": 1,
   "metadata": {},
   "outputs": [],
   "source": [
    "%matplotlib widget\n",
    "import matplotlib.pyplot as plt\n",
    "import os\n",
    "import sys\n",
    "# rospythonpathstr = !source /p/DeepRacing/ros2humble/install/setup.bash && echo ${PYTHONPATH} #type: ignore\n",
    "# sys.path = rospythonpathstr[0].split(os.pathsep) + sys.path\n",
    "# rosldlibrarypathstr = !source /p/DeepRacing/ros2humble/install/setup.bash && echo ${LD_LIBRARY_PATH} #type: ignore\n",
    "# os.environ[\"LD_LIBRARY_PATH\"]+=\":\"+rosldlibrarypathstr[0]\n",
    "# from ament_index_python import get_package_share_directory\n",
    "deepracingmodelsdir=os.path.abspath(\"\")\n",
    "deepracingdir = os.path.normpath(os.path.join(deepracingmodelsdir, \"..\", \"deepracing_py\"))\n",
    "sys.path = [deepracingmodelsdir, deepracingdir] + sys.path\n",
    "import deepracing, deepracing_models"
   ]
  },
  {
   "cell_type": "code",
   "execution_count": 4,
   "metadata": {},
   "outputs": [
    {
     "name": "stdout",
     "output_type": "stream",
     "text": [
      "/p/DeepRacing/deepracingws/src/deepracing_ros/deepracing_launch/maps\n"
     ]
    }
   ],
   "source": [
    "trackname=\"Britain\"\n",
    "\n",
    "drmapsdir = os.path.normpath(\n",
    "    os.path.join(\n",
    "        deepracingmodelsdir, \"..\", \"..\", \"deepracing_ros\", \"deepracing_launch\", \"maps\"\n",
    "        ))\n",
    "trackmap = deepracing.searchForTrackmap(trackname, [drmapsdir,])"
   ]
  }
 ],
 "metadata": {
  "kernelspec": {
   "display_name": "python3_mtr",
   "language": "python",
   "name": "python3"
  },
  "language_info": {
   "codemirror_mode": {
    "name": "ipython",
    "version": 3
   },
   "file_extension": ".py",
   "mimetype": "text/x-python",
   "name": "python",
   "nbconvert_exporter": "python",
   "pygments_lexer": "ipython3",
   "version": "3.10.7"
  },
  "orig_nbformat": 4
 },
 "nbformat": 4,
 "nbformat_minor": 2
}

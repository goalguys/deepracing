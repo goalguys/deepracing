{
 "cells": [
  {
   "cell_type": "code",
   "execution_count": 2,
   "metadata": {},
   "outputs": [
    {
     "name": "stdout",
     "output_type": "stream",
     "text": [
      "/p/DeepRacing/deepracingws/src/deepracing/DCNN-Pytorch\n",
      "/p/DeepRacing/deepracingws/src/deepracing/deepracing_py\n"
     ]
    }
   ],
   "source": [
    "%matplotlib widget\n",
    "import matplotlib.pyplot as plt\n",
    "import os\n",
    "deepracingmodelsdir=os.path.abspath(\"\")\n",
    "deepracingdir = os.path.normpath(os.path.join(deepracingmodelsdir, \"..\", \"deepracing_py\"))\n",
    "import sys\n",
    "sys.path = [deepracingmodelsdir, deepracingdir] + sys.path\n",
    "import deepracing, deepracing_models"
   ]
  }
 ],
 "metadata": {
  "kernelspec": {
   "display_name": "python3_mtr",
   "language": "python",
   "name": "python3"
  },
  "language_info": {
   "codemirror_mode": {
    "name": "ipython",
    "version": 3
   },
   "file_extension": ".py",
   "mimetype": "text/x-python",
   "name": "python",
   "nbconvert_exporter": "python",
   "pygments_lexer": "ipython3",
   "version": "3.10.7"
  },
  "orig_nbformat": 4
 },
 "nbformat": 4,
 "nbformat_minor": 2
}

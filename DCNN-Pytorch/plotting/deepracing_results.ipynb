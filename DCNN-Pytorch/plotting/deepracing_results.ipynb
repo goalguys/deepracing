{
 "cells": [
  {
   "cell_type": "code",
   "execution_count": 1,
   "metadata": {},
   "outputs": [
    {
     "name": "stdout",
     "output_type": "stream",
     "text": [
      "['/p/DeepRacing/MTR', '/l/ttw2xk/deepracingws/src/deepracing/DCNN-Pytorch', '/l/ttw2xk/deepracingws/src/deepracing/deepracing_py', '/l/ttw2xk/deepracingws/src/deepracing/DCNN-Pytorch/plotting', '/p/DeepRacing/deepracingws/src/deepracing/DCNN-Pytorch', '/p/DeepRacing/deepracingws/src/deepracing/deepracing_py', '/l/ttw2xk/vcpkgexports/lambda_10_31_23/installed/x64-linux/lib/python311.zip', '/l/ttw2xk/vcpkgexports/lambda_10_31_23/installed/x64-linux/lib/python3.11', '/l/ttw2xk/vcpkgexports/lambda_10_31_23/installed/x64-linux/lib/python3.11/lib-dynload', '', '/l/ttw2xk/python3venvs/deepracing311/lib/python3.11/site-packages', '/l/ttw2xk/deepracingws/MTR', '/l/ttw2xk/source_builds/pytorch_cuda12', '/l/ttw2xk/python3venvs/deepracing311/lib/python3.11/site-packages/torchvision-0.16.0+fbb4cc5-py3.11-linux-x86_64.egg', '/l/ttw2xk/python3venvs/deepracing311/lib/python3.11/site-packages/torchaudio-2.1.0+6ea1133-py3.11-linux-x86_64.egg']\n"
     ]
    }
   ],
   "source": [
    "%matplotlib widget\n",
    "%load_ext autoreload\n",
    "import numpy as np\n",
    "import os \n",
    "import matplotlib\n",
    "import matplotlib.pyplot as plt\n",
    "import matplotlib.figure, matplotlib.axes\n",
    "import os\n",
    "import sys\n",
    "import numpy as np\n",
    "import pickle as pkl\n",
    "import yaml\n",
    "import tqdm\n",
    "thisfiledir=os.path.abspath(\"\")\n",
    "deepracingmodelsdir = os.path.abspath(os.path.join(thisfiledir, \"..\"))\n",
    "deepracingdir = os.path.abspath(os.path.join(thisfiledir, \"..\", \"..\", \"deepracing_py\"))\n",
    "if (not (deepracingmodelsdir in sys.path)) or (not (deepracingdir in sys.path)):\n",
    "    sys.path = [deepracingmodelsdir, deepracingdir] + sys.path\n",
    "import torch\n",
    "import scipy.interpolate\n",
    "mtrdir=\"/p/DeepRacing/MTR\"\n",
    "if (not (mtrdir in sys.path)):\n",
    "    sys.path.insert(0, mtrdir)\n",
    "print(sys.path)"
   ]
  },
  {
   "cell_type": "code",
   "execution_count": 2,
   "metadata": {},
   "outputs": [
    {
     "name": "stdout",
     "output_type": "stream",
     "text": [
      "Mixnet has 126577 points\n",
      "Mixnet Bezier has 126577 points\n",
      "Composite model has 126577 points\n",
      "{'deepracing_file': '/p/DeepRacing/unpacked_datasets/local_fitting/v1/deepracing_standard/Bahrain_7_13_2023_15_43_22_trajectory_data/car_0/test_data.npz', 'index': 1}\n",
      "MTR has 126577 points\n"
     ]
    }
   ],
   "source": [
    "mixnet_results_dir = \"/p/DeepRacing/mixnet_results\"\n",
    "mixnet_experiment = \"agricultural_flue_8932\"\n",
    "with open(os.path.join(mixnet_results_dir, mixnet_experiment, \"data.npz\"), \"rb\") as f:\n",
    "    mixnet_results_file = np.load(f)\n",
    "    mixnet_results = {k: v.copy() for (k,v) in mixnet_results_file.items()}\n",
    "print(\"Mixnet has %d points\" % (mixnet_results[\"history\"].shape[0],))\n",
    "\n",
    "bezier_results_dir = \"/p/DeepRacing/mixnet_bezier_results\"\n",
    "bezier_experiment = \"widespread_beans_6059\"\n",
    "with open(os.path.join(bezier_results_dir, bezier_experiment, \"data.npz\"), \"rb\") as f:\n",
    "    bezier_results_file = np.load(f)\n",
    "    bezier_results = {k: v.copy() for (k,v) in bezier_results_file.items()}\n",
    "print(\"Mixnet Bezier has %d points\" % (bezier_results[\"history\"].shape[0],))\n",
    "\n",
    "composite_results_dir = \"/p/DeepRacing/bamf_results\"\n",
    "composite_experiment = \"sunny_coyote_3579\"\n",
    "with open(os.path.join(composite_results_dir, composite_experiment, \"data.npz\"), \"rb\") as f:\n",
    "    composite_results_file = np.load(f, allow_pickle=True)\n",
    "    composite_results = {k: v.copy() for (k,v) in composite_results_file.items()}\n",
    "print(\"Composite model has %d points\" % (composite_results[\"history\"].shape[0],))\n",
    "\n",
    "\n",
    "mtr_results_dir = \"/p/DeepRacing/mtr_results/11_14_23\"\n",
    "mtr_experiment = \"formal_pedestal_9890\"\n",
    "mtr_data_dir = \"/p/DeepRacing/unpacked_datasets/local_fitting/v1/mtr_format/1second\"\n",
    "mtr_scenarios_dir = os.path.join(mtr_data_dir, \"processed_scenarios_test\")\n",
    "mtr_sortfile = os.path.join(mtr_results_dir, mtr_experiment, \"test_plots\", \"idx_sort.npz\")\n",
    "if not os.path.isfile(mtr_sortfile):\n",
    "    with open(os.path.join(mtr_data_dir, \"processed_scenarios_test_infos.pkl\"), \"rb\") as f:\n",
    "        mtr_infos = pkl.load(f)\n",
    "    mtr_keys = mtr_infos[0].keys()\n",
    "    entries = []\n",
    "    for (idx, info) in tqdm.tqdm(enumerate(mtr_infos), total=len(mtr_infos)):\n",
    "        scenario_id = info[\"scenario_id\"]\n",
    "        with open(os.path.join(mtr_scenarios_dir, scenario_id+\".metadata.yaml\"), \"r\") as f:\n",
    "            scenario_metadata = yaml.safe_load(f)\n",
    "        deepracing_dir = os.path.dirname(scenario_metadata[\"deepracing_file\"])\n",
    "        dset_index = scenario_metadata[\"index\"]\n",
    "        car_index = int(os.path.basename(deepracing_dir).split(\"_\")[-1])\n",
    "        dated_trackname : str = os.path.basename(os.path.dirname(deepracing_dir))\n",
    "        trackname = dated_trackname.split(\"_\")[0]\n",
    "        entries.append((idx, scenario_id, trackname, car_index, dset_index))\n",
    "    entries_sorted = sorted(entries, key=lambda entry : (entry[2], entry[3], entry[4]))\n",
    "    scenario_ids_sorted = np.asarray([e[1] for e in entries_sorted], dtype=object)\n",
    "    idx_sort = np.asarray([e[0] for e in entries_sorted], dtype=np.int64)\n",
    "    with open(mtr_sortfile, \"wb\") as f:\n",
    "        np.savez(f, idx_sort=idx_sort, scenario_ids=scenario_ids_sorted)\n",
    "\n",
    "with open(mtr_sortfile, \"rb\") as f:\n",
    "    npfile = np.load(f, allow_pickle=True)\n",
    "    idx_sort = npfile[\"idx_sort\"].copy()\n",
    "    scenario_ids_sorted = npfile[\"scenario_ids\"].copy()\n",
    "with open(os.path.join(mtr_scenarios_dir, scenario_ids_sorted[1]+\".metadata.yaml\"), \"r\") as f:\n",
    "    print(yaml.safe_load(f))\n",
    "\n",
    "with open(os.path.join(mtr_results_dir, mtr_experiment, \"test_plots\", \"data.npz\"), \"rb\") as f:\n",
    "    mtr_results_file = np.load(f, allow_pickle=True)\n",
    "    mtr_results = {k: mtr_results_file[k][idx_sort].copy() for k in mtr_results_file.keys()}\n",
    "print(\"MTR has %d points\" % (mtr_results[\"predictions\"].shape[0],))\n",
    "\n"
   ]
  },
  {
   "cell_type": "code",
   "execution_count": 5,
   "metadata": {},
   "outputs": [],
   "source": [
    "# idx_samp = 15\n",
    "# best_curve_idx = mtr_results[\"best_curve_idx\"]\n",
    "# mtr_predictions = np.stack([mtr_results[\"predictions\"][i, best_curve_idx[i]] for i in range(best_curve_idx.shape[0])], axis=0)\n",
    "# comp_samp = composite_results[\"predictions\"][idx_samp,1:]\n",
    "# gt_samp = composite_results[\"ground_truth\"][idx_samp,1:]\n",
    "# mtr_samp = mtr_predictions[idx_samp]\n"
   ]
  },
  {
   "cell_type": "code",
   "execution_count": 4,
   "metadata": {},
   "outputs": [],
   "source": [
    "matplotlib.use(\"module://ipympl.backend_nbagg\")"
   ]
  }
 ],
 "metadata": {
  "kernelspec": {
   "display_name": "python310_13",
   "language": "python",
   "name": "python3"
  },
  "language_info": {
   "codemirror_mode": {
    "name": "ipython",
    "version": 3
   },
   "file_extension": ".py",
   "mimetype": "text/x-python",
   "name": "python",
   "nbconvert_exporter": "python",
   "pygments_lexer": "ipython3",
   "version": "3.11.5"
  }
 },
 "nbformat": 4,
 "nbformat_minor": 2
}
